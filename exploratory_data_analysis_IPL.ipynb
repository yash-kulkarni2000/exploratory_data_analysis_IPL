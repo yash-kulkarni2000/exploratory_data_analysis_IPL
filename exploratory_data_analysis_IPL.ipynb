{
 "cells": [
  {
   "cell_type": "code",
   "execution_count": 1,
   "id": "02d76b88",
   "metadata": {},
   "outputs": [],
   "source": [
    "import pandas as pd\n",
    "import matplotlib.pyplot as plt"
   ]
  },
  {
   "cell_type": "markdown",
   "id": "87b3f5d8",
   "metadata": {},
   "source": [
    "importing the dataset."
   ]
  },
  {
   "cell_type": "code",
   "execution_count": 2,
   "id": "fb762b93",
   "metadata": {},
   "outputs": [
    {
     "data": {
      "text/html": [
       "<div>\n",
       "<style scoped>\n",
       "    .dataframe tbody tr th:only-of-type {\n",
       "        vertical-align: middle;\n",
       "    }\n",
       "\n",
       "    .dataframe tbody tr th {\n",
       "        vertical-align: top;\n",
       "    }\n",
       "\n",
       "    .dataframe thead th {\n",
       "        text-align: right;\n",
       "    }\n",
       "</style>\n",
       "<table border=\"1\" class=\"dataframe\">\n",
       "  <thead>\n",
       "    <tr style=\"text-align: right;\">\n",
       "      <th></th>\n",
       "      <th>id</th>\n",
       "      <th>city</th>\n",
       "      <th>date</th>\n",
       "      <th>player_of_match</th>\n",
       "      <th>venue</th>\n",
       "      <th>neutral_venue</th>\n",
       "      <th>team1</th>\n",
       "      <th>team2</th>\n",
       "      <th>toss_winner</th>\n",
       "      <th>toss_decision</th>\n",
       "      <th>winner</th>\n",
       "      <th>result</th>\n",
       "      <th>result_margin</th>\n",
       "      <th>eliminator</th>\n",
       "      <th>method</th>\n",
       "      <th>umpire1</th>\n",
       "      <th>umpire2</th>\n",
       "    </tr>\n",
       "  </thead>\n",
       "  <tbody>\n",
       "    <tr>\n",
       "      <th>0</th>\n",
       "      <td>335982</td>\n",
       "      <td>Bangalore</td>\n",
       "      <td>2008-04-18</td>\n",
       "      <td>BB McCullum</td>\n",
       "      <td>M Chinnaswamy Stadium</td>\n",
       "      <td>0</td>\n",
       "      <td>Royal Challengers Bangalore</td>\n",
       "      <td>Kolkata Knight Riders</td>\n",
       "      <td>Royal Challengers Bangalore</td>\n",
       "      <td>field</td>\n",
       "      <td>Kolkata Knight Riders</td>\n",
       "      <td>runs</td>\n",
       "      <td>140.0</td>\n",
       "      <td>N</td>\n",
       "      <td>NaN</td>\n",
       "      <td>Asad Rauf</td>\n",
       "      <td>RE Koertzen</td>\n",
       "    </tr>\n",
       "    <tr>\n",
       "      <th>1</th>\n",
       "      <td>335983</td>\n",
       "      <td>Chandigarh</td>\n",
       "      <td>2008-04-19</td>\n",
       "      <td>MEK Hussey</td>\n",
       "      <td>Punjab Cricket Association Stadium, Mohali</td>\n",
       "      <td>0</td>\n",
       "      <td>Kings XI Punjab</td>\n",
       "      <td>Chennai Super Kings</td>\n",
       "      <td>Chennai Super Kings</td>\n",
       "      <td>bat</td>\n",
       "      <td>Chennai Super Kings</td>\n",
       "      <td>runs</td>\n",
       "      <td>33.0</td>\n",
       "      <td>N</td>\n",
       "      <td>NaN</td>\n",
       "      <td>MR Benson</td>\n",
       "      <td>SL Shastri</td>\n",
       "    </tr>\n",
       "    <tr>\n",
       "      <th>2</th>\n",
       "      <td>335984</td>\n",
       "      <td>Delhi</td>\n",
       "      <td>2008-04-19</td>\n",
       "      <td>MF Maharoof</td>\n",
       "      <td>Feroz Shah Kotla</td>\n",
       "      <td>0</td>\n",
       "      <td>Delhi Daredevils</td>\n",
       "      <td>Rajasthan Royals</td>\n",
       "      <td>Rajasthan Royals</td>\n",
       "      <td>bat</td>\n",
       "      <td>Delhi Daredevils</td>\n",
       "      <td>wickets</td>\n",
       "      <td>9.0</td>\n",
       "      <td>N</td>\n",
       "      <td>NaN</td>\n",
       "      <td>Aleem Dar</td>\n",
       "      <td>GA Pratapkumar</td>\n",
       "    </tr>\n",
       "    <tr>\n",
       "      <th>3</th>\n",
       "      <td>335985</td>\n",
       "      <td>Mumbai</td>\n",
       "      <td>2008-04-20</td>\n",
       "      <td>MV Boucher</td>\n",
       "      <td>Wankhede Stadium</td>\n",
       "      <td>0</td>\n",
       "      <td>Mumbai Indians</td>\n",
       "      <td>Royal Challengers Bangalore</td>\n",
       "      <td>Mumbai Indians</td>\n",
       "      <td>bat</td>\n",
       "      <td>Royal Challengers Bangalore</td>\n",
       "      <td>wickets</td>\n",
       "      <td>5.0</td>\n",
       "      <td>N</td>\n",
       "      <td>NaN</td>\n",
       "      <td>SJ Davis</td>\n",
       "      <td>DJ Harper</td>\n",
       "    </tr>\n",
       "    <tr>\n",
       "      <th>4</th>\n",
       "      <td>335986</td>\n",
       "      <td>Kolkata</td>\n",
       "      <td>2008-04-20</td>\n",
       "      <td>DJ Hussey</td>\n",
       "      <td>Eden Gardens</td>\n",
       "      <td>0</td>\n",
       "      <td>Kolkata Knight Riders</td>\n",
       "      <td>Deccan Chargers</td>\n",
       "      <td>Deccan Chargers</td>\n",
       "      <td>bat</td>\n",
       "      <td>Kolkata Knight Riders</td>\n",
       "      <td>wickets</td>\n",
       "      <td>5.0</td>\n",
       "      <td>N</td>\n",
       "      <td>NaN</td>\n",
       "      <td>BF Bowden</td>\n",
       "      <td>K Hariharan</td>\n",
       "    </tr>\n",
       "  </tbody>\n",
       "</table>\n",
       "</div>"
      ],
      "text/plain": [
       "       id        city       date player_of_match  \\\n",
       "0  335982   Bangalore 2008-04-18     BB McCullum   \n",
       "1  335983  Chandigarh 2008-04-19      MEK Hussey   \n",
       "2  335984       Delhi 2008-04-19     MF Maharoof   \n",
       "3  335985      Mumbai 2008-04-20      MV Boucher   \n",
       "4  335986     Kolkata 2008-04-20       DJ Hussey   \n",
       "\n",
       "                                        venue  neutral_venue  \\\n",
       "0                       M Chinnaswamy Stadium              0   \n",
       "1  Punjab Cricket Association Stadium, Mohali              0   \n",
       "2                            Feroz Shah Kotla              0   \n",
       "3                            Wankhede Stadium              0   \n",
       "4                                Eden Gardens              0   \n",
       "\n",
       "                         team1                        team2  \\\n",
       "0  Royal Challengers Bangalore        Kolkata Knight Riders   \n",
       "1              Kings XI Punjab          Chennai Super Kings   \n",
       "2             Delhi Daredevils             Rajasthan Royals   \n",
       "3               Mumbai Indians  Royal Challengers Bangalore   \n",
       "4        Kolkata Knight Riders              Deccan Chargers   \n",
       "\n",
       "                   toss_winner toss_decision                       winner  \\\n",
       "0  Royal Challengers Bangalore         field        Kolkata Knight Riders   \n",
       "1          Chennai Super Kings           bat          Chennai Super Kings   \n",
       "2             Rajasthan Royals           bat             Delhi Daredevils   \n",
       "3               Mumbai Indians           bat  Royal Challengers Bangalore   \n",
       "4              Deccan Chargers           bat        Kolkata Knight Riders   \n",
       "\n",
       "    result  result_margin eliminator method    umpire1         umpire2  \n",
       "0     runs          140.0          N    NaN  Asad Rauf     RE Koertzen  \n",
       "1     runs           33.0          N    NaN  MR Benson      SL Shastri  \n",
       "2  wickets            9.0          N    NaN  Aleem Dar  GA Pratapkumar  \n",
       "3  wickets            5.0          N    NaN   SJ Davis       DJ Harper  \n",
       "4  wickets            5.0          N    NaN  BF Bowden     K Hariharan  "
      ]
     },
     "execution_count": 2,
     "metadata": {},
     "output_type": "execute_result"
    }
   ],
   "source": [
    "ipl = pd.read_csv(\"IPL_Matches_2008-2020.csv\", parse_dates=[\"date\"])\n",
    "ipl.head()"
   ]
  },
  {
   "cell_type": "markdown",
   "id": "bfadc31f",
   "metadata": {},
   "source": [
    "using the info method to get the insights."
   ]
  },
  {
   "cell_type": "code",
   "execution_count": 3,
   "id": "7d0ecba6",
   "metadata": {},
   "outputs": [
    {
     "name": "stdout",
     "output_type": "stream",
     "text": [
      "<class 'pandas.core.frame.DataFrame'>\n",
      "RangeIndex: 816 entries, 0 to 815\n",
      "Data columns (total 17 columns):\n",
      " #   Column           Non-Null Count  Dtype         \n",
      "---  ------           --------------  -----         \n",
      " 0   id               816 non-null    int64         \n",
      " 1   city             803 non-null    object        \n",
      " 2   date             816 non-null    datetime64[ns]\n",
      " 3   player_of_match  812 non-null    object        \n",
      " 4   venue            816 non-null    object        \n",
      " 5   neutral_venue    816 non-null    int64         \n",
      " 6   team1            816 non-null    object        \n",
      " 7   team2            816 non-null    object        \n",
      " 8   toss_winner      816 non-null    object        \n",
      " 9   toss_decision    816 non-null    object        \n",
      " 10  winner           812 non-null    object        \n",
      " 11  result           812 non-null    object        \n",
      " 12  result_margin    799 non-null    float64       \n",
      " 13  eliminator       812 non-null    object        \n",
      " 14  method           19 non-null     object        \n",
      " 15  umpire1          816 non-null    object        \n",
      " 16  umpire2          816 non-null    object        \n",
      "dtypes: datetime64[ns](1), float64(1), int64(2), object(13)\n",
      "memory usage: 108.5+ KB\n"
     ]
    }
   ],
   "source": [
    "ipl.info()"
   ]
  },
  {
   "cell_type": "code",
   "execution_count": 4,
   "id": "b5b86b67",
   "metadata": {},
   "outputs": [
    {
     "data": {
      "text/plain": [
       "Index(['id', 'city', 'date', 'player_of_match', 'venue', 'neutral_venue',\n",
       "       'team1', 'team2', 'toss_winner', 'toss_decision', 'winner', 'result',\n",
       "       'result_margin', 'eliminator', 'method', 'umpire1', 'umpire2'],\n",
       "      dtype='object')"
      ]
     },
     "execution_count": 4,
     "metadata": {},
     "output_type": "execute_result"
    }
   ],
   "source": [
    "ipl.columns"
   ]
  },
  {
   "cell_type": "code",
   "execution_count": 5,
   "id": "d9c30457",
   "metadata": {},
   "outputs": [
    {
     "data": {
      "text/plain": [
       "17"
      ]
     },
     "execution_count": 5,
     "metadata": {},
     "output_type": "execute_result"
    }
   ],
   "source": [
    "len(ipl.columns)"
   ]
  },
  {
   "cell_type": "markdown",
   "id": "643d1f8e",
   "metadata": {},
   "source": [
    "There are a total of 17 columns </br>\n",
    "Lets look at each column individually </br>"
   ]
  },
  {
   "cell_type": "markdown",
   "id": "bb25e1d9",
   "metadata": {},
   "source": [
    "1. id column </br>\n",
    "This column was already present with the data set and not much information has been provided about it. </br> \n",
    "So let's ignore it"
   ]
  },
  {
   "cell_type": "markdown",
   "id": "ccb77f91",
   "metadata": {},
   "source": [
    "2. city column "
   ]
  },
  {
   "cell_type": "code",
   "execution_count": 6,
   "id": "ca3fc07c",
   "metadata": {},
   "outputs": [
    {
     "data": {
      "text/plain": [
       "Mumbai            101\n",
       "Kolkata            77\n",
       "Delhi              74\n",
       "Bangalore          65\n",
       "Hyderabad          64\n",
       "Chennai            57\n",
       "Chandigarh         56\n",
       "Jaipur             47\n",
       "Pune               38\n",
       "Abu Dhabi          29\n",
       "Dubai              26\n",
       "Bengaluru          15\n",
       "Durban             15\n",
       "Visakhapatnam      13\n",
       "Ahmedabad          12\n",
       "Sharjah            12\n",
       "Centurion          12\n",
       "Rajkot             10\n",
       "Dharamsala          9\n",
       "Indore              9\n",
       "Johannesburg        8\n",
       "Cuttack             7\n",
       "Cape Town           7\n",
       "Port Elizabeth      7\n",
       "Ranchi              7\n",
       "Raipur              6\n",
       "Kochi               5\n",
       "Kanpur              4\n",
       "East London         3\n",
       "Kimberley           3\n",
       "Nagpur              3\n",
       "Bloemfontein        2\n",
       "Name: city, dtype: int64"
      ]
     },
     "execution_count": 6,
     "metadata": {},
     "output_type": "execute_result"
    }
   ],
   "source": [
    "ipl[\"city\"].value_counts()"
   ]
  },
  {
   "cell_type": "markdown",
   "id": "2fad3a8f",
   "metadata": {},
   "source": [
    "we can see that, there are 2 separate entries for the same city. Bangalore and Bengaluru are the same cities.\n",
    "let's keep them the same."
   ]
  },
  {
   "cell_type": "code",
   "execution_count": 7,
   "id": "87ce160e",
   "metadata": {},
   "outputs": [
    {
     "data": {
      "text/plain": [
       "Mumbai            101\n",
       "Bangalore          80\n",
       "Kolkata            77\n",
       "Delhi              74\n",
       "Hyderabad          64\n",
       "Chennai            57\n",
       "Chandigarh         56\n",
       "Jaipur             47\n",
       "Pune               38\n",
       "Abu Dhabi          29\n",
       "Dubai              26\n",
       "Durban             15\n",
       "Visakhapatnam      13\n",
       "Ahmedabad          12\n",
       "Sharjah            12\n",
       "Centurion          12\n",
       "Rajkot             10\n",
       "Dharamsala          9\n",
       "Indore              9\n",
       "Johannesburg        8\n",
       "Cuttack             7\n",
       "Ranchi              7\n",
       "Port Elizabeth      7\n",
       "Cape Town           7\n",
       "Raipur              6\n",
       "Kochi               5\n",
       "Kanpur              4\n",
       "Kimberley           3\n",
       "Nagpur              3\n",
       "East London         3\n",
       "Bloemfontein        2\n",
       "Name: city, dtype: int64"
      ]
     },
     "execution_count": 7,
     "metadata": {},
     "output_type": "execute_result"
    }
   ],
   "source": [
    "ipl[\"city\"] = ipl[\"city\"].replace(\"Bengaluru\", \"Bangalore\")\n",
    "ipl[\"city\"].value_counts()"
   ]
  },
  {
   "cell_type": "code",
   "execution_count": 8,
   "id": "146b0167",
   "metadata": {},
   "outputs": [
    {
     "data": {
      "text/plain": [
       "31"
      ]
     },
     "execution_count": 8,
     "metadata": {},
     "output_type": "execute_result"
    }
   ],
   "source": [
    "ipl[\"city\"].nunique()"
   ]
  },
  {
   "cell_type": "code",
   "execution_count": 9,
   "id": "6144c064",
   "metadata": {},
   "outputs": [
    {
     "data": {
      "text/plain": [
       "<AxesSubplot:>"
      ]
     },
     "execution_count": 9,
     "metadata": {},
     "output_type": "execute_result"
    },
    {
     "data": {
      "image/png": "[encoded data removed]",
      "text/plain": [
       "<Figure size 432x288 with 1 Axes>"
      ]
     },
     "metadata": {
      "needs_background": "light"
     },
     "output_type": "display_data"
    }
   ],
   "source": [
    "ipl[\"city\"].value_counts().plot(kind='bar')"
   ]
  },
  {
   "cell_type": "markdown",
   "id": "98799ebc",
   "metadata": {},
   "source": [
    "3. Date column. </br>\n",
    "While importing the dataset, we have already used the parse dates parameter. </br>\n",
    "This will ensure that the data is in date format "
   ]
  },
  {
   "cell_type": "markdown",
   "id": "96f49e8b",
   "metadata": {},
   "source": [
    "4. player of match"
   ]
  },
  {
   "cell_type": "code",
   "execution_count": 10,
   "id": "03740a35",
   "metadata": {},
   "outputs": [
    {
     "data": {
      "text/plain": [
       "233"
      ]
     },
     "execution_count": 10,
     "metadata": {},
     "output_type": "execute_result"
    }
   ],
   "source": [
    "ipl[\"player_of_match\"].nunique()"
   ]
  },
  {
   "cell_type": "code",
   "execution_count": 11,
   "id": "57ffc589",
   "metadata": {},
   "outputs": [
    {
     "data": {
      "text/plain": [
       "AB de Villiers    23\n",
       "CH Gayle          22\n",
       "RG Sharma         18\n",
       "DA Warner         17\n",
       "MS Dhoni          17\n",
       "SR Watson         16\n",
       "YK Pathan         16\n",
       "SK Raina          14\n",
       "V Kohli           13\n",
       "G Gambhir         13\n",
       "Name: player_of_match, dtype: int64"
      ]
     },
     "execution_count": 11,
     "metadata": {},
     "output_type": "execute_result"
    }
   ],
   "source": [
    "#players with most player of match awards\n",
    "ipl[\"player_of_match\"].value_counts().head(10)"
   ]
  },
  {
   "cell_type": "code",
   "execution_count": 12,
   "id": "01fc0942",
   "metadata": {},
   "outputs": [
    {
     "data": {
      "text/plain": [
       "<AxesSubplot:>"
      ]
     },
     "execution_count": 12,
     "metadata": {},
     "output_type": "execute_result"
    },
    {
     "data": {
      "image/png": "[encoded data removed]",
      "text/plain": [
       "<Figure size 432x288 with 1 Axes>"
      ]
     },
     "metadata": {
      "needs_background": "light"
     },
     "output_type": "display_data"
    }
   ],
   "source": [
    "top_player_of_match = ipl[\"player_of_match\"].value_counts().head(10)\n",
    "top_player_of_match.plot(kind = 'bar')"
   ]
  },
  {
   "cell_type": "markdown",
   "id": "dab516e9",
   "metadata": {},
   "source": [
    "5. venue column"
   ]
  },
  {
   "cell_type": "code",
   "execution_count": 13,
   "id": "2803c604",
   "metadata": {},
   "outputs": [
    {
     "data": {
      "text/plain": [
       "Eden Gardens                                            77\n",
       "Feroz Shah Kotla                                        74\n",
       "Wankhede Stadium                                        73\n",
       "M Chinnaswamy Stadium                                   65\n",
       "Rajiv Gandhi International Stadium, Uppal               64\n",
       "MA Chidambaram Stadium, Chepauk                         57\n",
       "Sawai Mansingh Stadium                                  47\n",
       "Punjab Cricket Association Stadium, Mohali              35\n",
       "Dubai International Cricket Stadium                     33\n",
       "Sheikh Zayed Stadium                                    29\n",
       "Punjab Cricket Association IS Bindra Stadium, Mohali    21\n",
       "Maharashtra Cricket Association Stadium                 21\n",
       "Sharjah Cricket Stadium                                 18\n",
       "Dr DY Patil Sports Academy                              17\n",
       "Subrata Roy Sahara Stadium                              17\n",
       "M.Chinnaswamy Stadium                                   15\n",
       "Kingsmead                                               15\n",
       "Dr. Y.S. Rajasekhara Reddy ACA-VDCA Cricket Stadium     13\n",
       "Sardar Patel Stadium, Motera                            12\n",
       "SuperSport Park                                         12\n",
       "Brabourne Stadium                                       11\n",
       "Saurashtra Cricket Association Stadium                  10\n",
       "Himachal Pradesh Cricket Association Stadium             9\n",
       "Holkar Cricket Stadium                                   9\n",
       "New Wanderers Stadium                                    8\n",
       "Barabati Stadium                                         7\n",
       "Newlands                                                 7\n",
       "St George's Park                                         7\n",
       "JSCA International Stadium Complex                       7\n",
       "Shaheed Veer Narayan Singh International Stadium         6\n",
       "Nehru Stadium                                            5\n",
       "Green Park                                               4\n",
       "Buffalo Park                                             3\n",
       "Vidarbha Cricket Association Stadium, Jamtha             3\n",
       "De Beers Diamond Oval                                    3\n",
       "OUTsurance Oval                                          2\n",
       "Name: venue, dtype: int64"
      ]
     },
     "execution_count": 13,
     "metadata": {},
     "output_type": "execute_result"
    }
   ],
   "source": [
    "ipl[\"venue\"].value_counts()"
   ]
  },
  {
   "cell_type": "markdown",
   "id": "0204ea5f",
   "metadata": {},
   "source": [
    "Many stadium names are repeated, and it is unclear where they are located. </br>\n",
    "I am also adding the name of the city where they are located for better understanding"
   ]
  },
  {
   "cell_type": "code",
   "execution_count": 14,
   "id": "66ff2f4e",
   "metadata": {},
   "outputs": [
    {
     "data": {
      "text/plain": [
       "Wankhede Stadium, Mumbai                                              94\n",
       "M.Chinnaswamy Stadium, Bangalore                                      80\n",
       "Eden Gardens, Kolkata                                                 77\n",
       "Feroz Shah Kotla, Delhi                                               74\n",
       "Rajiv Gandhi International Stadium, Hyderabad                         64\n",
       "MA Chidambaram Stadium, Chennai                                       57\n",
       "Punjab Cricket Association IS Bindra Stadium, Mohali                  56\n",
       "Sawai Mansingh Stadium, Jaipur                                        47\n",
       "Dubai International Cricket Stadium, Dubai                            33\n",
       "Sheikh Zayed Stadium, Abu Dhabi                                       29\n",
       "Sharjah Cricket Stadium, Sharjah                                      18\n",
       "Maharashtra Cricket Association Stadium, Pune                         17\n",
       "Dr DY Patil Sports Academy, Navi Mumbai                               17\n",
       "Kingsmead Cricket Stadium, Durban                                     15\n",
       "Dr. Y.S. Rajasekhara Reddy ACA-VDCA Cricket Stadium, Visakhapatnam    13\n",
       "SuperSport Park, Centurion                                            12\n",
       "Narendra Modi Stadium, Ahmedabad                                      12\n",
       "Brabourne Stadium, Mumbai                                             11\n",
       "Saurashtra Cricket Association Stadium, Rajkot                        10\n",
       "Himachal Pradesh Cricket Association Stadium, Dharamshala              9\n",
       "Holkar Cricket Stadium, Indore                                         9\n",
       "New Wanderers Stadium, Sandton                                         8\n",
       "Barabati Stadium, Cuttack                                              7\n",
       "St George's Park Cricket Ground, St George's Park                      7\n",
       "Newlands Criket Ground, Cape Town                                      7\n",
       "JSCA International Stadium Complex, Ranchi                             7\n",
       "Shaheed Veer Narayan Singh International Stadium, Raipur               6\n",
       "Jawaharlal Nehru Stadium, Kochi                                        5\n",
       "Green Park Stadium, Kanpur                                             4\n",
       "Vidarbha Cricket Association Stadium, Nagpur                           3\n",
       "De Beers Diamond Oval, Kimberely                                       3\n",
       "Buffalo Park Stadium, East London                                      3\n",
       "Mangaung Oval, Bloemfontein                                            2\n",
       "Name: venue, dtype: int64"
      ]
     },
     "execution_count": 14,
     "metadata": {},
     "output_type": "execute_result"
    }
   ],
   "source": [
    "ipl[\"venue\"] = ipl[\"venue\"].replace({\n",
    "    \"Eden Gardens\" : \"Eden Gardens, Kolkata\",\n",
    "    \"Feroz Shah Kotla\" : \"Feroz Shah Kotla, Delhi\",\n",
    "    \"Wankhede Stadium\" : \"Wankhede Stadium, Mumbai\",\n",
    "    \"M Chinnaswamy Stadium\" : \"M.Chinnaswamy Stadium, Bangalore\",\n",
    "    \"Rajiv Gandhi International Stadium, Uppal\" : \"Rajiv Gandhi International Stadium, Hyderabad\",\n",
    "    \"MA Chidambaram Stadium, Chepauk\" : \"MA Chidambaram Stadium, Chennai\",\n",
    "    \"Sawai Mansingh Stadium\" : \"Sawai Mansingh Stadium, Jaipur\",\n",
    "    \"Dubai International Cricket Stadium\" : \"Dubai International Cricket Stadium, Dubai\",\n",
    "    \"Sheikh Zayed Stadium\" : \"Sheikh Zayed Stadium, Abu Dhabi\",\n",
    "    \"Punjab Cricket Association Stadium, Mohali\" : \"Punjab Cricket Association IS Bindra Stadium, Mohali\",\n",
    "    \"Maharashtra Cricket Association Stadium\" : \"Wankhede Stadium, Mumbai\",\n",
    "    \"Sharjah Cricket Stadium\" : \"Sharjah Cricket Stadium, Sharjah\",\n",
    "    \"Dr DY Patil Sports Academy\" : \"Dr DY Patil Sports Academy, Navi Mumbai\",\n",
    "    \"Subrata Roy Sahara Stadium\" : \"Maharashtra Cricket Association Stadium, Pune\",\n",
    "    \"M.Chinnaswamy Stadium\" : \"M.Chinnaswamy Stadium, Bangalore\",\n",
    "    \"Kingsmead\" : \"Kingsmead Cricket Stadium, Durban\",\n",
    "    \"Dr. Y.S. Rajasekhara Reddy ACA-VDCA Cricket Stadium\" : \"Dr. Y.S. Rajasekhara Reddy ACA-VDCA Cricket Stadium, Visakhapatnam\",\n",
    "    \"Sardar Patel Stadium, Motera\" : \"Narendra Modi Stadium, Ahmedabad\",\n",
    "    \"SuperSport Park\" : \"SuperSport Park, Centurion\",\n",
    "    \"Brabourne Stadium\" : \"Brabourne Stadium, Mumbai\",\n",
    "    \"Saurashtra Cricket Association Stadium\" : \"Saurashtra Cricket Association Stadium, Rajkot\",\n",
    "    \"Himachal Pradesh Cricket Association Stadium\" : \"Himachal Pradesh Cricket Association Stadium, Dharamshala\",\n",
    "    \"Holkar Cricket Stadium\" : \"Holkar Cricket Stadium, Indore\",\n",
    "    \"New Wanderers Stadium\" : \"New Wanderers Stadium, Sandton\",\n",
    "    \"Barabati Stadium\" : \"Barabati Stadium, Cuttack\",\n",
    "    \"Newlands\":\"Newlands Criket Ground, Cape Town\",\n",
    "    \"St George's Park\" : \"St George's Park Cricket Ground, St George's Park\",\n",
    "    \"JSCA International Stadium Complex\" : \"JSCA International Stadium Complex, Ranchi\",\n",
    "    \"Shaheed Veer Narayan Singh International Stadium\" : \"Shaheed Veer Narayan Singh International Stadium, Raipur\",\n",
    "    \"Nehru Stadium\" : \"Jawaharlal Nehru Stadium, Kochi\",\n",
    "    \"Green Park\" : \"Green Park Stadium, Kanpur\",\n",
    "    \"Buffalo Park\" : \"Buffalo Park Stadium, East London\",\n",
    "    \"Vidarbha Cricket Association Stadium, Jamtha\" : \"Vidarbha Cricket Association Stadium, Nagpur\",\n",
    "    \"De Beers Diamond Oval\" : \"De Beers Diamond Oval, Kimberely\",\n",
    "    \"OUTsurance Oval\" : \"Mangaung Oval, Bloemfontein\",\n",
    " })\n",
    "ipl[\"venue\"].value_counts()"
   ]
  },
  {
   "cell_type": "code",
   "execution_count": 15,
   "id": "ea31df93",
   "metadata": {},
   "outputs": [
    {
     "data": {
      "text/plain": [
       "33"
      ]
     },
     "execution_count": 15,
     "metadata": {},
     "output_type": "execute_result"
    }
   ],
   "source": [
    "ipl[\"venue\"].nunique()"
   ]
  },
  {
   "cell_type": "code",
   "execution_count": 16,
   "id": "5486ff06",
   "metadata": {},
   "outputs": [
    {
     "data": {
      "text/plain": [
       "<AxesSubplot:>"
      ]
     },
     "execution_count": 16,
     "metadata": {},
     "output_type": "execute_result"
    },
    {
     "data": {
      "image/png": "[encoded data removed]",
      "text/plain": [
       "<Figure size 432x288 with 1 Axes>"
      ]
     },
     "metadata": {
      "needs_background": "light"
     },
     "output_type": "display_data"
    }
   ],
   "source": [
    "top_venues = ipl[\"venue\"].value_counts().head()\n",
    "top_venues.plot(kind ='barh')"
   ]
  },
  {
   "cell_type": "markdown",
   "id": "5ba199b4",
   "metadata": {},
   "source": [
    "6. Neutral venue column"
   ]
  },
  {
   "cell_type": "markdown",
   "id": "22fd82b5",
   "metadata": {},
   "source": [
    "the neutral venue column has only 2 values 0 and 1. </br>\n",
    "with 1 indicating whether the venue was neutral"
   ]
  },
  {
   "cell_type": "code",
   "execution_count": 17,
   "id": "e3bd6165",
   "metadata": {},
   "outputs": [],
   "source": [
    "ipl[\"neutral_venue\"] = ipl[\"neutral_venue\"].astype(\"category\")"
   ]
  },
  {
   "cell_type": "code",
   "execution_count": 18,
   "id": "3234da04",
   "metadata": {},
   "outputs": [
    {
     "data": {
      "text/plain": [
       "0    739\n",
       "1     77\n",
       "Name: neutral_venue, dtype: int64"
      ]
     },
     "execution_count": 18,
     "metadata": {},
     "output_type": "execute_result"
    }
   ],
   "source": [
    "ipl[\"neutral_venue\"].value_counts()"
   ]
  },
  {
   "cell_type": "code",
   "execution_count": 19,
   "id": "5cdd2b98",
   "metadata": {},
   "outputs": [
    {
     "data": {
      "text/plain": [
       "<AxesSubplot:ylabel='neutral_venue'>"
      ]
     },
     "execution_count": 19,
     "metadata": {},
     "output_type": "execute_result"
    },
    {
     "data": {
      "image/png": "[encoded data removed]",
      "text/plain": [
       "<Figure size 432x288 with 1 Axes>"
      ]
     },
     "metadata": {},
     "output_type": "display_data"
    }
   ],
   "source": [
    "ipl[\"neutral_venue\"].value_counts().plot(kind='pie')"
   ]
  },
  {
   "cell_type": "markdown",
   "id": "2dd88082",
   "metadata": {},
   "source": [
    "7. team1 column"
   ]
  },
  {
   "cell_type": "code",
   "execution_count": 20,
   "id": "82328876",
   "metadata": {
    "scrolled": true
   },
   "outputs": [
    {
     "data": {
      "text/plain": [
       "Royal Challengers Bangalore    108\n",
       "Mumbai Indians                  97\n",
       "Kolkata Knight Riders           95\n",
       "Chennai Super Kings             94\n",
       "Kings XI Punjab                 92\n",
       "Delhi Daredevils                83\n",
       "Rajasthan Royals                70\n",
       "Sunrisers Hyderabad             59\n",
       "Deccan Chargers                 39\n",
       "Pune Warriors                   23\n",
       "Delhi Capitals                  19\n",
       "Gujarat Lions                   16\n",
       "Kochi Tuskers Kerala             7\n",
       "Rising Pune Supergiants          7\n",
       "Rising Pune Supergiant           7\n",
       "Name: team1, dtype: int64"
      ]
     },
     "execution_count": 20,
     "metadata": {},
     "output_type": "execute_result"
    }
   ],
   "source": [
    "ipl[\"team1\"].value_counts()"
   ]
  },
  {
   "cell_type": "code",
   "execution_count": 21,
   "id": "c6546cfc",
   "metadata": {},
   "outputs": [],
   "source": [
    "ipl[\"team1\"] = ipl[\"team1\"].replace(\"Rising Pune Supergiants\", \"Rising Pune Supergiant\")"
   ]
  },
  {
   "cell_type": "code",
   "execution_count": 22,
   "id": "6a71f958",
   "metadata": {},
   "outputs": [
    {
     "data": {
      "text/plain": [
       "Royal Challengers Bangalore    108\n",
       "Mumbai Indians                  97\n",
       "Kolkata Knight Riders           95\n",
       "Chennai Super Kings             94\n",
       "Kings XI Punjab                 92\n",
       "Delhi Daredevils                83\n",
       "Rajasthan Royals                70\n",
       "Sunrisers Hyderabad             59\n",
       "Deccan Chargers                 39\n",
       "Pune Warriors                   23\n",
       "Delhi Capitals                  19\n",
       "Gujarat Lions                   16\n",
       "Rising Pune Supergiant          14\n",
       "Kochi Tuskers Kerala             7\n",
       "Name: team1, dtype: int64"
      ]
     },
     "execution_count": 22,
     "metadata": {},
     "output_type": "execute_result"
    }
   ],
   "source": [
    "ipl[\"team1\"].value_counts()"
   ]
  },
  {
   "cell_type": "code",
   "execution_count": 23,
   "id": "fac2e7f6",
   "metadata": {},
   "outputs": [
    {
     "data": {
      "text/plain": [
       "14"
      ]
     },
     "execution_count": 23,
     "metadata": {},
     "output_type": "execute_result"
    }
   ],
   "source": [
    "ipl[\"team1\"].nunique()"
   ]
  },
  {
   "cell_type": "markdown",
   "id": "952ad9c3",
   "metadata": {},
   "source": [
    "8. team2 column"
   ]
  },
  {
   "cell_type": "code",
   "execution_count": 24,
   "id": "85678ef8",
   "metadata": {},
   "outputs": [
    {
     "data": {
      "text/plain": [
       "Mumbai Indians                 106\n",
       "Kings XI Punjab                 98\n",
       "Kolkata Knight Riders           97\n",
       "Rajasthan Royals                91\n",
       "Royal Challengers Bangalore     87\n",
       "Chennai Super Kings             84\n",
       "Delhi Daredevils                78\n",
       "Sunrisers Hyderabad             65\n",
       "Deccan Chargers                 36\n",
       "Pune Warriors                   23\n",
       "Gujarat Lions                   14\n",
       "Delhi Capitals                  14\n",
       "Rising Pune Supergiant           9\n",
       "Kochi Tuskers Kerala             7\n",
       "Rising Pune Supergiants          7\n",
       "Name: team2, dtype: int64"
      ]
     },
     "execution_count": 24,
     "metadata": {},
     "output_type": "execute_result"
    }
   ],
   "source": [
    "ipl[\"team2\"].value_counts()"
   ]
  },
  {
   "cell_type": "code",
   "execution_count": 25,
   "id": "1732c939",
   "metadata": {},
   "outputs": [],
   "source": [
    "ipl[\"team2\"] = ipl[\"team2\"].replace(\"Rising Pune Supergiants\", \"Rising Pune Supergiant\")"
   ]
  },
  {
   "cell_type": "code",
   "execution_count": 26,
   "id": "82e588d6",
   "metadata": {},
   "outputs": [
    {
     "data": {
      "text/plain": [
       "Mumbai Indians                 106\n",
       "Kings XI Punjab                 98\n",
       "Kolkata Knight Riders           97\n",
       "Rajasthan Royals                91\n",
       "Royal Challengers Bangalore     87\n",
       "Chennai Super Kings             84\n",
       "Delhi Daredevils                78\n",
       "Sunrisers Hyderabad             65\n",
       "Deccan Chargers                 36\n",
       "Pune Warriors                   23\n",
       "Rising Pune Supergiant          16\n",
       "Gujarat Lions                   14\n",
       "Delhi Capitals                  14\n",
       "Kochi Tuskers Kerala             7\n",
       "Name: team2, dtype: int64"
      ]
     },
     "execution_count": 26,
     "metadata": {},
     "output_type": "execute_result"
    }
   ],
   "source": [
    "ipl[\"team2\"].value_counts()"
   ]
  },
  {
   "cell_type": "code",
   "execution_count": 27,
   "id": "17717b9b",
   "metadata": {},
   "outputs": [
    {
     "data": {
      "text/plain": [
       "14"
      ]
     },
     "execution_count": 27,
     "metadata": {},
     "output_type": "execute_result"
    }
   ],
   "source": [
    "ipl[\"team2\"].nunique()"
   ]
  },
  {
   "cell_type": "markdown",
   "id": "49d91734",
   "metadata": {},
   "source": [
    "9. toss winner column"
   ]
  },
  {
   "cell_type": "code",
   "execution_count": 28,
   "id": "b6afd68e",
   "metadata": {},
   "outputs": [
    {
     "data": {
      "text/plain": [
       "Mumbai Indians                 106\n",
       "Kolkata Knight Riders           98\n",
       "Chennai Super Kings             97\n",
       "Royal Challengers Bangalore     87\n",
       "Rajasthan Royals                87\n",
       "Kings XI Punjab                 85\n",
       "Delhi Daredevils                80\n",
       "Sunrisers Hyderabad             57\n",
       "Deccan Chargers                 43\n",
       "Pune Warriors                   20\n",
       "Delhi Capitals                  20\n",
       "Gujarat Lions                   15\n",
       "Kochi Tuskers Kerala             8\n",
       "Rising Pune Supergiants          7\n",
       "Rising Pune Supergiant           6\n",
       "Name: toss_winner, dtype: int64"
      ]
     },
     "execution_count": 28,
     "metadata": {},
     "output_type": "execute_result"
    }
   ],
   "source": [
    "ipl[\"toss_winner\"].value_counts()"
   ]
  },
  {
   "cell_type": "code",
   "execution_count": 29,
   "id": "58ba6f4c",
   "metadata": {},
   "outputs": [],
   "source": [
    "ipl[\"toss_winner\"] = ipl[\"toss_winner\"].replace(\"Rising Pune Supergiants\", \"Rising Pune Supergiant\")"
   ]
  },
  {
   "cell_type": "code",
   "execution_count": 30,
   "id": "39ec41d7",
   "metadata": {},
   "outputs": [
    {
     "data": {
      "text/plain": [
       "Mumbai Indians                 106\n",
       "Kolkata Knight Riders           98\n",
       "Chennai Super Kings             97\n",
       "Royal Challengers Bangalore     87\n",
       "Rajasthan Royals                87\n",
       "Kings XI Punjab                 85\n",
       "Delhi Daredevils                80\n",
       "Sunrisers Hyderabad             57\n",
       "Deccan Chargers                 43\n",
       "Pune Warriors                   20\n",
       "Delhi Capitals                  20\n",
       "Gujarat Lions                   15\n",
       "Rising Pune Supergiant          13\n",
       "Kochi Tuskers Kerala             8\n",
       "Name: toss_winner, dtype: int64"
      ]
     },
     "execution_count": 30,
     "metadata": {},
     "output_type": "execute_result"
    }
   ],
   "source": [
    "ipl[\"toss_winner\"].value_counts()"
   ]
  },
  {
   "cell_type": "code",
   "execution_count": 31,
   "id": "bdad4f5b",
   "metadata": {},
   "outputs": [
    {
     "data": {
      "text/plain": [
       "<AxesSubplot:>"
      ]
     },
     "execution_count": 31,
     "metadata": {},
     "output_type": "execute_result"
    },
    {
     "data": {
      "image/png": "[encoded data removed]",
      "text/plain": [
       "<Figure size 432x288 with 1 Axes>"
      ]
     },
     "metadata": {
      "needs_background": "light"
     },
     "output_type": "display_data"
    }
   ],
   "source": [
    "ipl[\"toss_winner\"].value_counts().plot(kind = 'bar')"
   ]
  },
  {
   "cell_type": "markdown",
   "id": "9641201c",
   "metadata": {},
   "source": [
    "10. toss decision column"
   ]
  },
  {
   "cell_type": "code",
   "execution_count": 32,
   "id": "d283dc33",
   "metadata": {},
   "outputs": [
    {
     "data": {
      "text/plain": [
       "field    496\n",
       "bat      320\n",
       "Name: toss_decision, dtype: int64"
      ]
     },
     "execution_count": 32,
     "metadata": {},
     "output_type": "execute_result"
    }
   ],
   "source": [
    "ipl[\"toss_decision\"].value_counts()"
   ]
  },
  {
   "cell_type": "code",
   "execution_count": 33,
   "id": "1d8337e5",
   "metadata": {},
   "outputs": [
    {
     "data": {
      "text/plain": [
       "<AxesSubplot:ylabel='toss_decision'>"
      ]
     },
     "execution_count": 33,
     "metadata": {},
     "output_type": "execute_result"
    },
    {
     "data": {
      "image/png": "[encoded data removed]",
      "text/plain": [
       "<Figure size 432x288 with 1 Axes>"
      ]
     },
     "metadata": {},
     "output_type": "display_data"
    }
   ],
   "source": [
    "ipl[\"toss_decision\"].value_counts().plot(kind='pie')"
   ]
  },
  {
   "cell_type": "markdown",
   "id": "ec57d71e",
   "metadata": {},
   "source": [
    "11. winner column"
   ]
  },
  {
   "cell_type": "code",
   "execution_count": 34,
   "id": "fd2b37e2",
   "metadata": {},
   "outputs": [
    {
     "data": {
      "text/plain": [
       "Mumbai Indians                 120\n",
       "Chennai Super Kings            106\n",
       "Kolkata Knight Riders           99\n",
       "Royal Challengers Bangalore     91\n",
       "Kings XI Punjab                 88\n",
       "Rajasthan Royals                81\n",
       "Delhi Daredevils                67\n",
       "Sunrisers Hyderabad             66\n",
       "Deccan Chargers                 29\n",
       "Delhi Capitals                  19\n",
       "Gujarat Lions                   13\n",
       "Pune Warriors                   12\n",
       "Rising Pune Supergiant          10\n",
       "Kochi Tuskers Kerala             6\n",
       "Rising Pune Supergiants          5\n",
       "Name: winner, dtype: int64"
      ]
     },
     "execution_count": 34,
     "metadata": {},
     "output_type": "execute_result"
    }
   ],
   "source": [
    "ipl[\"winner\"].value_counts()"
   ]
  },
  {
   "cell_type": "code",
   "execution_count": 35,
   "id": "30c28c18",
   "metadata": {},
   "outputs": [],
   "source": [
    "ipl[\"winner\"] = ipl[\"winner\"].replace(\"Rising Pune Supergiants\", \"Rising Pune Supergiant\")"
   ]
  },
  {
   "cell_type": "code",
   "execution_count": 36,
   "id": "7f42e2e6",
   "metadata": {},
   "outputs": [
    {
     "data": {
      "text/plain": [
       "Mumbai Indians                 120\n",
       "Chennai Super Kings            106\n",
       "Kolkata Knight Riders           99\n",
       "Royal Challengers Bangalore     91\n",
       "Kings XI Punjab                 88\n",
       "Rajasthan Royals                81\n",
       "Delhi Daredevils                67\n",
       "Sunrisers Hyderabad             66\n",
       "Deccan Chargers                 29\n",
       "Delhi Capitals                  19\n",
       "Rising Pune Supergiant          15\n",
       "Gujarat Lions                   13\n",
       "Pune Warriors                   12\n",
       "Kochi Tuskers Kerala             6\n",
       "Name: winner, dtype: int64"
      ]
     },
     "execution_count": 36,
     "metadata": {},
     "output_type": "execute_result"
    }
   ],
   "source": [
    "ipl[\"winner\"].value_counts()"
   ]
  },
  {
   "cell_type": "code",
   "execution_count": 37,
   "id": "e47a7dc0",
   "metadata": {},
   "outputs": [
    {
     "data": {
      "text/plain": [
       "<AxesSubplot:>"
      ]
     },
     "execution_count": 37,
     "metadata": {},
     "output_type": "execute_result"
    },
    {
     "data": {
      "image/png": "[encoded data removed]",
      "text/plain": [
       "<Figure size 432x288 with 1 Axes>"
      ]
     },
     "metadata": {
      "needs_background": "light"
     },
     "output_type": "display_data"
    }
   ],
   "source": [
    "ipl[\"winner\"].value_counts().plot(kind=\"bar\")"
   ]
  },
  {
   "cell_type": "markdown",
   "id": "6c50d599",
   "metadata": {},
   "source": [
    "12. result column"
   ]
  },
  {
   "cell_type": "markdown",
   "id": "cf0b926e",
   "metadata": {},
   "source": [
    "The result column indicates how the match ended. </br>\n",
    "If the match was won with wickets in hand, it show wickets. </br>\n",
    "If the match was won by runs it shows runs. </br>\n",
    "and if the match ended in a tie"
   ]
  },
  {
   "cell_type": "code",
   "execution_count": 38,
   "id": "ce671801",
   "metadata": {},
   "outputs": [],
   "source": [
    "ipl[\"result\"] = ipl[\"result\"].astype(\"category\")"
   ]
  },
  {
   "cell_type": "code",
   "execution_count": 39,
   "id": "dbc4e004",
   "metadata": {},
   "outputs": [
    {
     "data": {
      "text/plain": [
       "wickets    435\n",
       "runs       364\n",
       "tie         13\n",
       "Name: result, dtype: int64"
      ]
     },
     "execution_count": 39,
     "metadata": {},
     "output_type": "execute_result"
    }
   ],
   "source": [
    "ipl[\"result\"].value_counts()"
   ]
  },
  {
   "cell_type": "code",
   "execution_count": 40,
   "id": "c9b2ba21",
   "metadata": {},
   "outputs": [
    {
     "data": {
      "text/plain": [
       "<AxesSubplot:ylabel='result'>"
      ]
     },
     "execution_count": 40,
     "metadata": {},
     "output_type": "execute_result"
    },
    {
     "data": {
      "image/png": "[encoded data removed]",
      "text/plain": [
       "<Figure size 432x288 with 1 Axes>"
      ]
     },
     "metadata": {},
     "output_type": "display_data"
    }
   ],
   "source": [
    "ipl[\"result\"].value_counts().plot(kind =\"pie\")"
   ]
  },
  {
   "cell_type": "markdown",
   "id": "36dfb62a",
   "metadata": {},
   "source": [
    "13. result margin column"
   ]
  },
  {
   "cell_type": "markdown",
   "id": "b957ba76",
   "metadata": {},
   "source": [
    "just looking at the result margin doesn't make any sense. </br>\n",
    "so we will look at it with comparison to the result"
   ]
  },
  {
   "cell_type": "code",
   "execution_count": 41,
   "id": "56d365b5",
   "metadata": {},
   "outputs": [
    {
     "data": {
      "text/plain": [
       "result   result_margin\n",
       "wickets  6.0              88\n",
       "         7.0              84\n",
       "         5.0              79\n",
       "         8.0              62\n",
       "         4.0              42\n",
       "                          ..\n",
       "runs     75.0              1\n",
       "         76.0              1\n",
       "         77.0              1\n",
       "         87.0              1\n",
       "         51.0              1\n",
       "Length: 101, dtype: int64"
      ]
     },
     "execution_count": 41,
     "metadata": {},
     "output_type": "execute_result"
    }
   ],
   "source": [
    "ipl[[\"result\", \"result_margin\"]].value_counts()"
   ]
  },
  {
   "cell_type": "code",
   "execution_count": 42,
   "id": "8d962560",
   "metadata": {
    "scrolled": true
   },
   "outputs": [
    {
     "data": {
      "text/plain": [
       "<AxesSubplot:>"
      ]
     },
     "execution_count": 42,
     "metadata": {},
     "output_type": "execute_result"
    },
    {
     "data": {
      "image/png": "[encoded data removed]",
      "text/plain": [
       "<Figure size 432x288 with 1 Axes>"
      ]
     },
     "metadata": {
      "needs_background": "light"
     },
     "output_type": "display_data"
    }
   ],
   "source": [
    "result_wickets = ipl[ipl[\"result\"] == \"wickets\"]\n",
    "result_wickets[\"result_margin\"].value_counts().plot(kind=\"bar\")"
   ]
  },
  {
   "cell_type": "markdown",
   "id": "2f3b8d7a",
   "metadata": {},
   "source": [
    "A win by 6 wickets is the most common result when batting second"
   ]
  },
  {
   "cell_type": "markdown",
   "id": "e52486c0",
   "metadata": {},
   "source": [
    "14. eliminator column"
   ]
  },
  {
   "cell_type": "markdown",
   "id": "f220ede6",
   "metadata": {},
   "source": [
    "eliminator column indicates whether the match was a eliminator or not"
   ]
  },
  {
   "cell_type": "code",
   "execution_count": 43,
   "id": "42fc80c8",
   "metadata": {},
   "outputs": [
    {
     "data": {
      "text/plain": [
       "N    799\n",
       "Y     13\n",
       "Name: eliminator, dtype: int64"
      ]
     },
     "execution_count": 43,
     "metadata": {},
     "output_type": "execute_result"
    }
   ],
   "source": [
    "ipl[\"eliminator\"].value_counts()"
   ]
  },
  {
   "cell_type": "code",
   "execution_count": 44,
   "id": "8a3cd814",
   "metadata": {},
   "outputs": [
    {
     "data": {
      "text/plain": [
       "<AxesSubplot:ylabel='eliminator'>"
      ]
     },
     "execution_count": 44,
     "metadata": {},
     "output_type": "execute_result"
    },
    {
     "data": {
      "image/png": "[encoded data removed]",
      "text/plain": [
       "<Figure size 432x288 with 1 Axes>"
      ]
     },
     "metadata": {},
     "output_type": "display_data"
    }
   ],
   "source": [
    "ipl[\"eliminator\"].value_counts().plot(kind=\"pie\")"
   ]
  },
  {
   "cell_type": "code",
   "execution_count": 45,
   "id": "f46ef5b5",
   "metadata": {},
   "outputs": [],
   "source": [
    "ipl[\"eliminator\"] = ipl[\"eliminator\"].astype(\"category\")"
   ]
  },
  {
   "cell_type": "markdown",
   "id": "40f58f86",
   "metadata": {},
   "source": [
    "15. method column"
   ]
  },
  {
   "cell_type": "code",
   "execution_count": 46,
   "id": "9e00fc3a",
   "metadata": {},
   "outputs": [
    {
     "data": {
      "text/plain": [
       "D/L    19\n",
       "Name: method, dtype: int64"
      ]
     },
     "execution_count": 46,
     "metadata": {},
     "output_type": "execute_result"
    }
   ],
   "source": [
    "ipl[\"method\"].value_counts()"
   ]
  },
  {
   "cell_type": "markdown",
   "id": "725333ef",
   "metadata": {},
   "source": [
    "16. umpire1 column"
   ]
  },
  {
   "cell_type": "code",
   "execution_count": 47,
   "id": "7c30518d",
   "metadata": {},
   "outputs": [
    {
     "data": {
      "text/plain": [
       "HDPK Dharmasena          78\n",
       "AK Chaudhary             56\n",
       "Asad Rauf                51\n",
       "M Erasmus                40\n",
       "Aleem Dar                38\n",
       "BF Bowden                37\n",
       "S Ravi                   37\n",
       "BR Doctrove              34\n",
       "CB Gaffaney              34\n",
       "KN Ananthapadmanabhan    33\n",
       "AY Dandekar              28\n",
       "C Shamshuddin            22\n",
       "NJ Llong                 21\n",
       "Nitin Menon              20\n",
       "RE Koertzen              20\n",
       "S Asnani                 19\n",
       "VA Kulkarni              19\n",
       "BNJ Oxenford             16\n",
       "JD Cloete                16\n",
       "YC Barde                 14\n",
       "A Nand Kishore           14\n",
       "BG Jerling               13\n",
       "RK Illingworth           13\n",
       "SS Hazare                11\n",
       "S Das                    10\n",
       "MR Benson                10\n",
       "K Hariharan              10\n",
       "DJ Harper                 9\n",
       "UV Gandhe                 8\n",
       "CK Nandan                 8\n",
       "IL Howell                 7\n",
       "GAV Baxter                7\n",
       "RM Deshpande              7\n",
       "SJ Davis                  6\n",
       "VK Sharma                 6\n",
       "SD Fry                    5\n",
       "RJ Tucker                 5\n",
       "A Deshmukh                5\n",
       "PR Reiffel                5\n",
       "SK Tarapore               5\n",
       "PG Pathak                 4\n",
       "IJ Gould                  3\n",
       "K Bharatan                3\n",
       "AM Saheba                 3\n",
       "AV Jayaprakash            2\n",
       "K Srinath                 2\n",
       "SJA Taufel                1\n",
       "SL Shastri                1\n",
       "Name: umpire1, dtype: int64"
      ]
     },
     "execution_count": 47,
     "metadata": {},
     "output_type": "execute_result"
    }
   ],
   "source": [
    "ipl[\"umpire1\"].value_counts()"
   ]
  },
  {
   "cell_type": "code",
   "execution_count": 48,
   "id": "580f3fe6",
   "metadata": {},
   "outputs": [
    {
     "data": {
      "text/plain": [
       "48"
      ]
     },
     "execution_count": 48,
     "metadata": {},
     "output_type": "execute_result"
    }
   ],
   "source": [
    "ipl[\"umpire1\"].nunique()"
   ]
  },
  {
   "cell_type": "markdown",
   "id": "4094d9dd",
   "metadata": {},
   "source": [
    "17. umpire2 column"
   ]
  },
  {
   "cell_type": "code",
   "execution_count": 49,
   "id": "7f39530e",
   "metadata": {
    "scrolled": false
   },
   "outputs": [
    {
     "data": {
      "text/plain": [
       "S Ravi             84\n",
       "C Shamshuddin      60\n",
       "SJA Taufel         54\n",
       "CK Nandan          49\n",
       "RJ Tucker          41\n",
       "Nitin Menon        37\n",
       "BNJ Oxenford       32\n",
       "VA Kulkarni        31\n",
       "AK Chaudhary       31\n",
       "RB Tiffin          30\n",
       "SK Tarapore        26\n",
       "M Erasmus          25\n",
       "AM Saheba          23\n",
       "RE Koertzen        21\n",
       "VK Sharma          20\n",
       "PR Reiffel         19\n",
       "DJ Harper          18\n",
       "RK Illingworth     18\n",
       "HDPK Dharmasena    16\n",
       "NJ Llong           16\n",
       "CB Gaffaney        13\n",
       "SL Shastri         13\n",
       "K Srinath          13\n",
       "K Hariharan        11\n",
       "A Nand Kishore     11\n",
       "S Asnani           11\n",
       "BR Doctrove         8\n",
       "PG Pathak           7\n",
       "A Deshmukh          7\n",
       "IL Howell           7\n",
       "K Srinivasan        6\n",
       "AL Hill             6\n",
       "SS Hazare           6\n",
       "I Shivram           6\n",
       "GA Pratapkumar      6\n",
       "S Das               5\n",
       "TH Wijewardene      5\n",
       "YC Barde            5\n",
       "BG Jerling          4\n",
       "AV Jayaprakash      4\n",
       "IJ Gould            3\n",
       "SD Ranade           2\n",
       "MR Benson           2\n",
       "Subroto Das         1\n",
       "JD Cloete           1\n",
       "SJ Davis            1\n",
       "SD Fry              1\n",
       "Name: umpire2, dtype: int64"
      ]
     },
     "execution_count": 49,
     "metadata": {},
     "output_type": "execute_result"
    }
   ],
   "source": [
    "ipl[\"umpire2\"].value_counts()"
   ]
  },
  {
   "cell_type": "code",
   "execution_count": 50,
   "id": "c33bedb7",
   "metadata": {},
   "outputs": [
    {
     "data": {
      "text/plain": [
       "47"
      ]
     },
     "execution_count": 50,
     "metadata": {},
     "output_type": "execute_result"
    }
   ],
   "source": [
    "ipl[\"umpire2\"].nunique()"
   ]
  },
  {
   "cell_type": "markdown",
   "id": "5202667c",
   "metadata": {},
   "source": [
    "lets combine both the umpire columns to get a better understanding of the data"
   ]
  },
  {
   "cell_type": "code",
   "execution_count": 51,
   "id": "ff4e56eb",
   "metadata": {},
   "outputs": [
    {
     "data": {
      "text/plain": [
       "816"
      ]
     },
     "execution_count": 51,
     "metadata": {},
     "output_type": "execute_result"
    }
   ],
   "source": [
    "len(ipl[\"umpire1\"])"
   ]
  },
  {
   "cell_type": "code",
   "execution_count": 52,
   "id": "81900d0c",
   "metadata": {},
   "outputs": [
    {
     "data": {
      "text/plain": [
       "816"
      ]
     },
     "execution_count": 52,
     "metadata": {},
     "output_type": "execute_result"
    }
   ],
   "source": [
    "len(ipl[\"umpire2\"])"
   ]
  },
  {
   "cell_type": "code",
   "execution_count": 53,
   "id": "df30a551",
   "metadata": {},
   "outputs": [],
   "source": [
    "umpire1 = ipl[\"umpire1\"].to_frame()\n",
    "umpire2 = ipl[\"umpire2\"].to_frame()"
   ]
  },
  {
   "cell_type": "code",
   "execution_count": 54,
   "id": "32f3dcbd",
   "metadata": {},
   "outputs": [],
   "source": [
    "umpires = umpire1.append(umpire2.rename(mapper={\"umpire2\":\"umpire1\"}, axis=\"columns\"))"
   ]
  },
  {
   "cell_type": "code",
   "execution_count": 55,
   "id": "3e1fbf07",
   "metadata": {},
   "outputs": [
    {
     "data": {
      "text/html": [
       "<div>\n",
       "<style scoped>\n",
       "    .dataframe tbody tr th:only-of-type {\n",
       "        vertical-align: middle;\n",
       "    }\n",
       "\n",
       "    .dataframe tbody tr th {\n",
       "        vertical-align: top;\n",
       "    }\n",
       "\n",
       "    .dataframe thead th {\n",
       "        text-align: right;\n",
       "    }\n",
       "</style>\n",
       "<table border=\"1\" class=\"dataframe\">\n",
       "  <thead>\n",
       "    <tr style=\"text-align: right;\">\n",
       "      <th></th>\n",
       "      <th>umpire1</th>\n",
       "    </tr>\n",
       "  </thead>\n",
       "  <tbody>\n",
       "    <tr>\n",
       "      <th>0</th>\n",
       "      <td>Asad Rauf</td>\n",
       "    </tr>\n",
       "    <tr>\n",
       "      <th>1</th>\n",
       "      <td>MR Benson</td>\n",
       "    </tr>\n",
       "    <tr>\n",
       "      <th>2</th>\n",
       "      <td>Aleem Dar</td>\n",
       "    </tr>\n",
       "    <tr>\n",
       "      <th>3</th>\n",
       "      <td>SJ Davis</td>\n",
       "    </tr>\n",
       "    <tr>\n",
       "      <th>4</th>\n",
       "      <td>BF Bowden</td>\n",
       "    </tr>\n",
       "    <tr>\n",
       "      <th>...</th>\n",
       "      <td>...</td>\n",
       "    </tr>\n",
       "    <tr>\n",
       "      <th>811</th>\n",
       "      <td>PR Reiffel</td>\n",
       "    </tr>\n",
       "    <tr>\n",
       "      <th>812</th>\n",
       "      <td>Nitin Menon</td>\n",
       "    </tr>\n",
       "    <tr>\n",
       "      <th>813</th>\n",
       "      <td>S Ravi</td>\n",
       "    </tr>\n",
       "    <tr>\n",
       "      <th>814</th>\n",
       "      <td>S Ravi</td>\n",
       "    </tr>\n",
       "    <tr>\n",
       "      <th>815</th>\n",
       "      <td>Nitin Menon</td>\n",
       "    </tr>\n",
       "  </tbody>\n",
       "</table>\n",
       "<p>1632 rows × 1 columns</p>\n",
       "</div>"
      ],
      "text/plain": [
       "         umpire1\n",
       "0      Asad Rauf\n",
       "1      MR Benson\n",
       "2      Aleem Dar\n",
       "3       SJ Davis\n",
       "4      BF Bowden\n",
       "..           ...\n",
       "811   PR Reiffel\n",
       "812  Nitin Menon\n",
       "813       S Ravi\n",
       "814       S Ravi\n",
       "815  Nitin Menon\n",
       "\n",
       "[1632 rows x 1 columns]"
      ]
     },
     "execution_count": 55,
     "metadata": {},
     "output_type": "execute_result"
    }
   ],
   "source": [
    "umpires"
   ]
  },
  {
   "cell_type": "code",
   "execution_count": 56,
   "id": "d83c69be",
   "metadata": {},
   "outputs": [
    {
     "data": {
      "text/plain": [
       "umpire1        \n",
       "S Ravi             121\n",
       "HDPK Dharmasena     94\n",
       "AK Chaudhary        87\n",
       "C Shamshuddin       82\n",
       "M Erasmus           65\n",
       "dtype: int64"
      ]
     },
     "execution_count": 56,
     "metadata": {},
     "output_type": "execute_result"
    }
   ],
   "source": [
    "umpires.value_counts().head()"
   ]
  },
  {
   "cell_type": "code",
   "execution_count": 57,
   "id": "f61ffaca",
   "metadata": {},
   "outputs": [
    {
     "data": {
      "text/plain": [
       "<AxesSubplot:xlabel='umpire1'>"
      ]
     },
     "execution_count": 57,
     "metadata": {},
     "output_type": "execute_result"
    },
    {
     "data": {
      "image/png": "[encoded data removed]",
      "text/plain": [
       "<Figure size 432x288 with 1 Axes>"
      ]
     },
     "metadata": {
      "needs_background": "light"
     },
     "output_type": "display_data"
    }
   ],
   "source": [
    "umpires.value_counts().head().plot(kind = \"bar\")"
   ]
  },
  {
   "cell_type": "code",
   "execution_count": 58,
   "id": "067d426d",
   "metadata": {},
   "outputs": [
    {
     "name": "stdout",
     "output_type": "stream",
     "text": [
      "<class 'pandas.core.frame.DataFrame'>\n",
      "RangeIndex: 816 entries, 0 to 815\n",
      "Data columns (total 17 columns):\n",
      " #   Column           Non-Null Count  Dtype         \n",
      "---  ------           --------------  -----         \n",
      " 0   id               816 non-null    int64         \n",
      " 1   city             803 non-null    object        \n",
      " 2   date             816 non-null    datetime64[ns]\n",
      " 3   player_of_match  812 non-null    object        \n",
      " 4   venue            816 non-null    object        \n",
      " 5   neutral_venue    816 non-null    category      \n",
      " 6   team1            816 non-null    object        \n",
      " 7   team2            816 non-null    object        \n",
      " 8   toss_winner      816 non-null    object        \n",
      " 9   toss_decision    816 non-null    object        \n",
      " 10  winner           812 non-null    object        \n",
      " 11  result           812 non-null    category      \n",
      " 12  result_margin    799 non-null    float64       \n",
      " 13  eliminator       812 non-null    category      \n",
      " 14  method           19 non-null     object        \n",
      " 15  umpire1          816 non-null    object        \n",
      " 16  umpire2          816 non-null    object        \n",
      "dtypes: category(3), datetime64[ns](1), float64(1), int64(1), object(11)\n",
      "memory usage: 92.1+ KB\n"
     ]
    }
   ],
   "source": [
    "ipl.info()"
   ]
  },
  {
   "cell_type": "markdown",
   "id": "8887ae28",
   "metadata": {},
   "source": [
    "As we can see, we have also optimized the dataset by converting the datatype from object to category, </br> \n",
    "with the memory usage reducing from 108.5 KB to 92.1 KB"
   ]
  },
  {
   "cell_type": "markdown",
   "id": "6c7f176f",
   "metadata": {},
   "source": [
    "I will be exporting the final csv for further use"
   ]
  },
  {
   "cell_type": "code",
   "execution_count": 59,
   "id": "796513d4",
   "metadata": {},
   "outputs": [],
   "source": [
    "ipl.to_csv(\"Updated_IPL_Matches_2008-2020.csv\")"
   ]
  },
  {
   "cell_type": "markdown",
   "id": "9efe985a",
   "metadata": {},
   "source": [
    "And with that we have completed our exploratory data anaylsis of the IPL dataset"
   ]
  }
 ],
 "metadata": {
  "kernelspec": {
   "display_name": "Python 3 (ipykernel)",
   "language": "python",
   "name": "python3"
  },
  "language_info": {
   "codemirror_mode": {
    "name": "ipython",
    "version": 3
   },
   "file_extension": ".py",
   "mimetype": "text/x-python",
   "name": "python",
   "nbconvert_exporter": "python",
   "pygments_lexer": "ipython3",
   "version": "3.9.7"
  }
 },
 "nbformat": 4,
 "nbformat_minor": 5
}
